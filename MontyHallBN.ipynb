{
 "cells": [
  {
   "cell_type": "markdown",
   "metadata": {},
   "source": [
    "Solving the Monty Hall problem using Bayesian networks.\n",
    "\n",
    "https://en.wikipedia.org/wiki/Monty_Hall_problem"
   ]
  },
  {
   "cell_type": "markdown",
   "metadata": {},
   "source": [
    "Start with importing Pomegranate, a package for probabilistic models"
   ]
  },
  {
   "cell_type": "code",
   "execution_count": 363,
   "metadata": {},
   "outputs": [],
   "source": [
    "import pomegranate as pg"
   ]
  },
  {
   "cell_type": "markdown",
   "metadata": {},
   "source": [
    "Now, we want to initialize our data. The probability of finding the price beind a door is 1/3. Also, the guest can pick any door with the same likelihood (1/3). We initialize these discrete distributions.\n",
    "A,B and C are the door labels. We generate our probability table by calculating a likelihood for all three-letter permutations (with repetition) of ['A', 'B', 'C']. Probability is calculated so that:\n",
    "* If the price and the guest pick is two separate door, theres a 100% chance that Monty will pick the third door\n",
    "* If the price and the guest pick is the same door, there's two doors for Monty to choose from, so both get a 50% likelihood\n",
    "* Monty won't pick the same door as the guest or the door where the price is"
   ]
  },
  {
   "cell_type": "code",
   "execution_count": 364,
   "metadata": {},
   "outputs": [],
   "source": [
    "def get_probability(x,y,z):\n",
    "    return int(x!=y and x!=z and y!=z)+int(x==y and y!=z)*0.5\n",
    "price = pg.DiscreteDistribution({'A':1/.3,'B':1/.3,'C':1/.3})\n",
    "guest = pg.DiscreteDistribution({'A':1/.3,'B':1/.3,'C':1/.3})\n",
    "doors = ['A','B','C']\n",
    "prob_table = [[x,y,z,get_probability(x,y,z)] for x in doors for y in doors for z in doors]\n",
    "monty = pg.ConditionalProbabilityTable(prob_table, [guest, price])"
   ]
  },
  {
   "cell_type": "markdown",
   "metadata": {},
   "source": [
    "Initialize our states (nodes)"
   ]
  },
  {
   "cell_type": "code",
   "execution_count": 365,
   "metadata": {},
   "outputs": [],
   "source": [
    "s1 = pg.State(guest, name='guest')\n",
    "s2 = pg.State(price, name='price')\n",
    "s3 = pg.State(monty, name='monty')"
   ]
  },
  {
   "cell_type": "markdown",
   "metadata": {},
   "source": [
    "Initialize our network and add edges between the states. Which door Monty will choose (s3) is dependent on what door the guest chose (s1) and where the price is (s2). So, we have dependencies here."
   ]
  },
  {
   "cell_type": "code",
   "execution_count": 366,
   "metadata": {},
   "outputs": [],
   "source": [
    "bn = pg.BayesianNetwork(\"Solving the Monty Hall problem\")\n",
    "bn.add_states(s1, s2, s3)\n",
    "bn.add_edge(s1, s3)\n",
    "bn.add_edge(s2, s3)\n",
    "bn.bake()"
   ]
  },
  {
   "cell_type": "markdown",
   "metadata": {},
   "source": [
    "Here, we can play around with different combinations of given facts."
   ]
  },
  {
   "cell_type": "code",
   "execution_count": 367,
   "metadata": {},
   "outputs": [],
   "source": [
    "# Guest picks door A\n",
    "beliefs = bn.predict_proba({'guest':'A'})\n",
    "# Guest picks door A, Monty picks door B\n",
    "#beliefs = bn.predict_proba({'guest':'A', 'monty':'B'})\n",
    "# Monty picks door B, the price is behind door A\n",
    "#beliefs = bn.predict_proba({'monty':'B', 'price':'A'})\n",
    "# Guest picks door A, price is behind door B"
   ]
  },
  {
   "cell_type": "markdown",
   "metadata": {},
   "source": [
    "Extract our beliefs from the belief network. We want to print the results and chose this simple format for convenience:  \n",
    "&nbsp;&nbsp;&nbsp;&nbsp;(state, list of tuples with door name and probability)\n",
    "\n",
    "Example:  \n",
    "&nbsp;&nbsp;&nbsp;&nbsp;('guest', [('A', 0.333), ('B', 0.333), ('C', 0.333)])"
   ]
  },
  {
   "cell_type": "code",
   "execution_count": 368,
   "metadata": {},
   "outputs": [],
   "source": [
    "def belief_array(belief):\n",
    "    ret = []\n",
    "    for door in doors:\n",
    "        val = 0\n",
    "        if door == belief:\n",
    "            val = 1\n",
    "        ret.append((door,val))\n",
    "    return ret\n",
    "def belief_as_tuple_list(belief):\n",
    "    return belief_array(belief) if isinstance(belief, str) else list(belief.parameters[0].items())\n",
    "beliefs = [(state.name, belief_as_tuple_list(belief)) for state, belief in zip (bn.states,beliefs)]"
   ]
  },
  {
   "cell_type": "markdown",
   "metadata": {},
   "source": [
    "Print the probabilities"
   ]
  },
  {
   "cell_type": "code",
   "execution_count": 371,
   "metadata": {},
   "outputs": [
    {
     "name": "stdout",
     "output_type": "stream",
     "text": [
      "guest\n",
      "\tA: 1.00\n",
      "\tB: 0.00\n",
      "\tC: 0.00\n",
      "price\n",
      "\tA: 0.33\n",
      "\tB: 0.33\n",
      "\tC: 0.33\n",
      "monty\n",
      "\tC: 0.50\n",
      "\tA: 0.00\n",
      "\tB: 0.50\n"
     ]
    }
   ],
   "source": [
    "print('\\n'.join('{}\\n{}'.format(belief[0],'\\n'.join('\\t{}: {:.2f}'.format(x,float(y)) for x,y in belief[1])) for belief in beliefs))"
   ]
  }
 ],
 "metadata": {
  "kernelspec": {
   "display_name": "Python 3",
   "language": "python",
   "name": "python3"
  },
  "language_info": {
   "codemirror_mode": {
    "name": "ipython",
    "version": 3
   },
   "file_extension": ".py",
   "mimetype": "text/x-python",
   "name": "python",
   "nbconvert_exporter": "python",
   "pygments_lexer": "ipython3",
   "version": "3.7.3"
  }
 },
 "nbformat": 4,
 "nbformat_minor": 2
}
